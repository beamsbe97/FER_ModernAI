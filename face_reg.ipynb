{
 "cells": [
  {
   "cell_type": "code",
   "execution_count": 2,
   "metadata": {},
   "outputs": [],
   "source": [
    "import torch\n",
    "import torchvision\n",
    "import torchvision.transforms as transforms\n",
    "import torch.nn as nn\n",
    "from torch.nn.functional import relu\n",
    "from torch.utils.data import DataLoader, Dataset, ConcatDataset\n",
    "from torchvision import datasets\n",
    "import matplotlib.pyplot as plt\n",
    "import numpy as np"
   ]
  },
  {
   "cell_type": "markdown",
   "metadata": {},
   "source": [
    "Change the path below to where your \"fer2013\" folder is\n",
    "\n",
    "Example: If fer2013 is located in the Downloads folder, the path looks something like below"
   ]
  },
  {
   "cell_type": "code",
   "execution_count": 3,
   "metadata": {},
   "outputs": [],
   "source": [
    "train_path = r'C:\\Users\\nguye\\Downloads\\fer_2013\\train'\n",
    "test_path = r'C:\\Users\\nguye\\Downloads\\fer_2013\\test'"
   ]
  },
  {
   "cell_type": "code",
   "execution_count": 7,
   "metadata": {},
   "outputs": [],
   "source": [
    "transform = transforms.Compose(\n",
    "    [transforms.ToTensor(),\n",
    "     transforms.Normalize((0.5), (0.5)),\n",
    "     torchvision.transforms.Grayscale(1)\n",
    "     ])\n",
    "\n",
    "trainset = datasets.ImageFolder(root=train_path, transform=transform)\n",
    "testset = datasets.ImageFolder(root=test_path, transform=transform)\n",
    "train_loader = DataLoader(trainset, shuffle=True)\n",
    "test_loader = DataLoader(testset, shuffle=True)"
   ]
  },
  {
   "cell_type": "code",
   "execution_count": 8,
   "metadata": {},
   "outputs": [],
   "source": [
    "train_iter = iter(train_loader)"
   ]
  },
  {
   "cell_type": "code",
   "execution_count": 11,
   "metadata": {},
   "outputs": [
    {
     "name": "stdout",
     "output_type": "stream",
     "text": [
      "Feature batch shape: torch.Size([1, 1, 48, 48])\n",
      "Labels batch shape: torch.Size([1])\n"
     ]
    },
    {
     "data": {
      "image/png": "[encoded data removed]",
      "text/plain": [
       "<Figure size 640x480 with 1 Axes>"
      ]
     },
     "metadata": {},
     "output_type": "display_data"
    },
    {
     "name": "stdout",
     "output_type": "stream",
     "text": [
      "Label: Fear\n"
     ]
    }
   ],
   "source": [
    "images, labels = next(train_iter)\n",
    "labels_map = {\n",
    "    0:\"Angry\",\n",
    "    1:\"Disgust\",\n",
    "    2:\"Fear\",\n",
    "    3:\"Happy\", \n",
    "    4:\"Sad\", \n",
    "    5:\"Surprise\", \n",
    "    6:\"Neutral\"\n",
    "}\n",
    "print(f\"Feature batch shape: {images.size()}\")\n",
    "print(f\"Labels batch shape: {labels.size()}\")\n",
    "img = images[0].squeeze()\n",
    "label = labels[0]\n",
    "plt.imshow(img.T, cmap=\"gray\")\n",
    "plt.show()\n",
    "print(f\"Label: {labels_map[int(label)]}\")"
   ]
  },
  {
   "cell_type": "code",
   "execution_count": 17,
   "metadata": {},
   "outputs": [],
   "source": [
    "class FER_Classifer(nn.Module):\n",
    "    def __init__(self):\n",
    "        super().__init__()\n",
    "        self.model = nn.Sequential(\n",
    "            nn.Conv2d(1, 32, (3,3)),\n",
    "            nn.ReLU(),\n",
    "            nn.MaxPool2d(2,2),\n",
    "            nn.Conv2d(32, 64, (3,3)),\n",
    "            nn.ReLU(),\n",
    "            nn.MaxPool2d(2,2),\n",
    "            nn.Conv2d(64, 64, (3,3)),\n",
    "            nn.ReLU(),\n",
    "            nn.Flatten(),\n",
    "            nn.Linear(64*(48-6)*(48-6), 20),\n",
    "            nn.ReLU(),\n",
    "            nn.Linear(20,7)  \n",
    "        )\n",
    " \n",
    "    def forward(self,x):\n",
    "        return self.model(x)\n"
   ]
  },
  {
   "cell_type": "code",
   "execution_count": 40,
   "metadata": {},
   "outputs": [],
   "source": [
    "class FER_Classifer(nn.Module):\n",
    "    def __init__(self):\n",
    "        super().__init__()\n",
    "        self.conv1 = nn.Conv2d(1, 10, (5,5))\n",
    "        self.conv2 = nn.Conv2d(10, 18, (5,5))\n",
    "        self.conv3 = nn.Conv2d(18, 32, (5,5))\n",
    "        self.pool = nn.MaxPool2d(2,2)\n",
    "        self.fc1 = nn.Linear(128, 120)\n",
    "        self.fc2 = nn.Linear(120, 84)\n",
    "        self.fc3 = nn.Linear(84,7)\n",
    " \n",
    "    def forward(self,x):\n",
    "        x = self.pool(relu(self.conv1(x)))\n",
    "        x = self.pool(relu(self.conv2(x)))\n",
    "        x = self.pool(relu(self.conv3(x)))\n",
    "        x = torch.flatten(x,1)\n",
    "        x = relu(self.fc1(x))\n",
    "        x = relu(self.fc2(x))\n",
    "        x = self.fc3(x)\n",
    "        return x\n"
   ]
  },
  {
   "cell_type": "code",
   "execution_count": 41,
   "metadata": {},
   "outputs": [],
   "source": [
    "import torch.optim as optim\n",
    "\n",
    "clf = FER_Classifer()\n",
    "criteria = nn.CrossEntropyLoss()\n",
    "opt = optim.Adam(clf.parameters(), lr=0.0002, weight_decay=0.1)"
   ]
  },
  {
   "cell_type": "code",
   "execution_count": 42,
   "metadata": {},
   "outputs": [
    {
     "name": "stdout",
     "output_type": "stream",
     "text": [
      "[1,  2000] loss: 1.896\n",
      "[1,  4000] loss: 1.868\n",
      "[1,  6000] loss: 1.860\n",
      "[1,  8000] loss: 1.865\n",
      "[1, 10000] loss: 1.861\n",
      "[1, 12000] loss: 1.864\n",
      "[1, 14000] loss: 1.851\n",
      "[1, 16000] loss: 1.850\n",
      "[1, 18000] loss: 1.853\n",
      "[1, 20000] loss: 1.852\n",
      "[1, 22000] loss: 1.852\n",
      "[1, 24000] loss: 1.859\n",
      "[1, 26000] loss: 1.858\n",
      "[1, 28000] loss: 1.851\n",
      "[2,  2000] loss: 1.854\n",
      "[2,  4000] loss: 1.848\n",
      "[2,  6000] loss: 1.854\n",
      "[2,  8000] loss: 1.853\n",
      "[2, 10000] loss: 1.850\n",
      "[2, 12000] loss: 1.849\n",
      "[2, 14000] loss: 1.857\n",
      "[2, 16000] loss: 1.854\n",
      "[2, 18000] loss: 1.855\n",
      "[2, 20000] loss: 1.854\n",
      "[2, 22000] loss: 1.846\n",
      "[2, 24000] loss: 1.844\n",
      "[2, 26000] loss: 1.847\n",
      "[2, 28000] loss: 1.857\n",
      "[3,  2000] loss: 1.847\n",
      "[3,  4000] loss: 1.847\n",
      "[3,  6000] loss: 1.851\n",
      "[3,  8000] loss: 1.860\n",
      "[3, 10000] loss: 1.852\n",
      "[3, 12000] loss: 1.855\n",
      "[3, 14000] loss: 1.851\n",
      "[3, 16000] loss: 1.844\n",
      "[3, 18000] loss: 1.851\n",
      "[3, 20000] loss: 1.850\n",
      "[3, 22000] loss: 1.857\n",
      "[3, 24000] loss: 1.852\n",
      "[3, 26000] loss: 1.845\n",
      "[3, 28000] loss: 1.852\n",
      "[4,  2000] loss: 1.852\n",
      "[4,  4000] loss: 1.856\n",
      "[4,  6000] loss: 1.851\n",
      "[4,  8000] loss: 1.851\n",
      "[4, 10000] loss: 1.851\n",
      "[4, 12000] loss: 1.851\n",
      "[4, 14000] loss: 1.852\n",
      "[4, 16000] loss: 1.853\n",
      "[4, 18000] loss: 1.845\n",
      "[4, 20000] loss: 1.854\n",
      "[4, 22000] loss: 1.856\n",
      "[4, 24000] loss: 1.853\n",
      "[4, 26000] loss: 1.846\n",
      "[4, 28000] loss: 1.852\n",
      "[5,  2000] loss: 1.854\n",
      "[5,  4000] loss: 1.850\n",
      "[5,  6000] loss: 1.854\n",
      "[5,  8000] loss: 1.852\n",
      "[5, 10000] loss: 1.861\n",
      "[5, 12000] loss: 1.852\n",
      "[5, 14000] loss: 1.854\n",
      "[5, 16000] loss: 1.846\n",
      "[5, 18000] loss: 1.844\n",
      "[5, 20000] loss: 1.841\n",
      "[5, 22000] loss: 1.850\n",
      "[5, 24000] loss: 1.847\n",
      "[5, 26000] loss: 1.847\n",
      "[5, 28000] loss: 1.854\n",
      "[6,  2000] loss: 1.858\n",
      "[6,  4000] loss: 1.852\n",
      "[6,  6000] loss: 1.852\n",
      "[6,  8000] loss: 1.844\n",
      "[6, 10000] loss: 1.849\n",
      "[6, 12000] loss: 1.848\n",
      "[6, 14000] loss: 1.852\n",
      "[6, 16000] loss: 1.857\n",
      "[6, 18000] loss: 1.854\n",
      "[6, 20000] loss: 1.849\n",
      "[6, 22000] loss: 1.852\n",
      "[6, 24000] loss: 1.846\n",
      "[6, 26000] loss: 1.853\n",
      "[6, 28000] loss: 1.852\n",
      "[7,  2000] loss: 1.857\n",
      "[7,  4000] loss: 1.854\n",
      "[7,  6000] loss: 1.852\n",
      "[7,  8000] loss: 1.843\n",
      "[7, 10000] loss: 1.853\n",
      "[7, 12000] loss: 1.844\n",
      "[7, 14000] loss: 1.852\n",
      "[7, 16000] loss: 1.850\n",
      "[7, 18000] loss: 1.858\n",
      "[7, 20000] loss: 1.854\n",
      "[7, 22000] loss: 1.851\n",
      "[7, 24000] loss: 1.851\n",
      "[7, 26000] loss: 1.850\n",
      "[7, 28000] loss: 1.852\n",
      "[8,  2000] loss: 1.852\n",
      "[8,  4000] loss: 1.856\n",
      "[8,  6000] loss: 1.844\n",
      "[8,  8000] loss: 1.849\n",
      "[8, 10000] loss: 1.855\n",
      "[8, 12000] loss: 1.852\n",
      "[8, 14000] loss: 1.849\n",
      "[8, 16000] loss: 1.848\n",
      "[8, 18000] loss: 1.851\n",
      "[8, 20000] loss: 1.851\n",
      "[8, 22000] loss: 1.844\n",
      "[8, 24000] loss: 1.860\n",
      "[8, 26000] loss: 1.854\n",
      "[8, 28000] loss: 1.854\n",
      "[9,  2000] loss: 1.850\n",
      "[9,  4000] loss: 1.858\n",
      "[9,  6000] loss: 1.841\n",
      "[9,  8000] loss: 1.849\n",
      "[9, 10000] loss: 1.851\n",
      "[9, 12000] loss: 1.850\n",
      "[9, 14000] loss: 1.853\n",
      "[9, 16000] loss: 1.850\n",
      "[9, 18000] loss: 1.848\n",
      "[9, 20000] loss: 1.858\n",
      "[9, 22000] loss: 1.852\n",
      "[9, 24000] loss: 1.853\n",
      "[9, 26000] loss: 1.852\n",
      "[9, 28000] loss: 1.851\n",
      "[10,  2000] loss: 1.855\n",
      "[10,  4000] loss: 1.845\n",
      "[10,  6000] loss: 1.844\n",
      "[10,  8000] loss: 1.850\n",
      "[10, 10000] loss: 1.841\n",
      "[10, 12000] loss: 1.854\n",
      "[10, 14000] loss: 1.858\n",
      "[10, 16000] loss: 1.856\n",
      "[10, 18000] loss: 1.847\n",
      "[10, 20000] loss: 1.851\n",
      "[10, 22000] loss: 1.852\n",
      "[10, 24000] loss: 1.857\n",
      "[10, 26000] loss: 1.854\n",
      "[10, 28000] loss: 1.855\n"
     ]
    }
   ],
   "source": [
    "training_loss = []\n",
    "for epoch in range(10):\n",
    "    running_loss = 0\n",
    "    for index, data in enumerate(train_loader, 0):\n",
    "        images, labels = data\n",
    "        opt.zero_grad()\n",
    "\n",
    "        outputs = clf(images)\n",
    "        loss = criteria(outputs, labels)\n",
    "        loss.backward()\n",
    "        opt.step()\n",
    "\n",
    "        running_loss+= loss.item()\n",
    "        \n",
    "        if index % 2000 == 1999:  \n",
    "            print(f'[{epoch + 1}, {index + 1:5d}] loss: {running_loss / 2000:.3f}')\n",
    "            training_loss.append(running_loss)\n",
    "            running_loss = 0.0\n",
    "\n"
   ]
  },
  {
   "cell_type": "code",
   "execution_count": null,
   "metadata": {},
   "outputs": [],
   "source": []
  },
  {
   "cell_type": "code",
   "execution_count": 44,
   "metadata": {},
   "outputs": [
    {
     "data": {
      "text/plain": [
       "[<matplotlib.lines.Line2D at 0x156c197c220>]"
      ]
     },
     "execution_count": 44,
     "metadata": {},
     "output_type": "execute_result"
    },
    {
     "data": {
      "image/png": "[encoded data removed]",
      "text/plain": [
       "<Figure size 640x480 with 1 Axes>"
      ]
     },
     "metadata": {},
     "output_type": "display_data"
    }
   ],
   "source": [
    "plt.plot(training_loss, label = 'train_loss')"
   ]
  },
  {
   "cell_type": "code",
   "execution_count": 45,
   "metadata": {},
   "outputs": [],
   "source": [
    "test_iter = iter(test_loader)\n"
   ]
  },
  {
   "cell_type": "code",
   "execution_count": 53,
   "metadata": {},
   "outputs": [
    {
     "data": {
      "text/plain": [
       "tensor([[[-0.6392, -0.7333, -0.7960,  ..., -0.9215, -0.8979, -0.8274],\n",
       "         [-0.6078, -0.7803, -0.8352,  ..., -0.9136, -0.9215, -0.8352],\n",
       "         [-0.6078, -0.7882, -0.8823,  ..., -0.8274, -0.8117, -0.8274],\n",
       "         ...,\n",
       "         [ 0.6313,  0.4039, -0.1529,  ...,  0.4980,  0.6078,  0.5999],\n",
       "         [ 0.6627,  0.5529,  0.1686,  ...,  0.4196,  0.5686,  0.5999],\n",
       "         [ 0.6313,  0.5764,  0.3411,  ...,  0.2941,  0.4117,  0.4823]]])"
      ]
     },
     "execution_count": 53,
     "metadata": {},
     "output_type": "execute_result"
    }
   ],
   "source": [
    "testset[0][0]"
   ]
  },
  {
   "cell_type": "code",
   "execution_count": 47,
   "metadata": {},
   "outputs": [
    {
     "data": {
      "text/plain": [
       "<matplotlib.image.AxesImage at 0x156c1ff25c0>"
      ]
     },
     "execution_count": 47,
     "metadata": {},
     "output_type": "execute_result"
    },
    {
     "data": {
      "image/png": "[encoded data removed]",
      "text/plain": [
       "<Figure size 640x480 with 1 Axes>"
      ]
     },
     "metadata": {},
     "output_type": "display_data"
    }
   ],
   "source": [
    "plt.imshow(testset[0][0].permute(1,2,0))"
   ]
  },
  {
   "cell_type": "code",
   "execution_count": 48,
   "metadata": {},
   "outputs": [
    {
     "name": "stdout",
     "output_type": "stream",
     "text": [
      "Accuracy of the network on the 10000 test images: 24 %\n"
     ]
    }
   ],
   "source": [
    "correct = 0\n",
    "total = 0\n",
    "with torch.no_grad():\n",
    "    for data in test_loader:\n",
    "        images, labels = data\n",
    "        # calculate outputs by running images through the network\n",
    "        outputs = clf(images)\n",
    "        # the class with the highest energy is what we choose as prediction\n",
    "        _, predicted = torch.max(outputs.data, 1)\n",
    "        total += labels.size(0)\n",
    "        correct += (predicted == labels).sum().item()\n",
    "\n",
    "print(f'Accuracy of the network on the 10000 test images: {100 * correct // total} %')"
   ]
  }
 ],
 "metadata": {
  "kernelspec": {
   "display_name": "Python 3",
   "language": "python",
   "name": "python3"
  },
  "language_info": {
   "codemirror_mode": {
    "name": "ipython",
    "version": 3
   },
   "file_extension": ".py",
   "mimetype": "text/x-python",
   "name": "python",
   "nbconvert_exporter": "python",
   "pygments_lexer": "ipython3",
   "version": "3.10.5"
  }
 },
 "nbformat": 4,
 "nbformat_minor": 2
}
