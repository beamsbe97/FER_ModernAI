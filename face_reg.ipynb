{
 "cells": [
  {
   "cell_type": "code",
   "execution_count": 1,
   "metadata": {},
   "outputs": [],
   "source": [
    "import torch\n",
    "import torchvision\n",
    "import torchvision.transforms as transforms\n",
    "import torch.nn as nn\n",
    "from torch.nn.functional import relu\n",
    "from torch.utils.data import DataLoader, Dataset, ConcatDataset\n",
    "from torchvision import datasets\n",
    "import matplotlib.pyplot as plt\n",
    "import numpy as np"
   ]
  },
  {
   "cell_type": "markdown",
   "metadata": {},
   "source": [
    "Change the path below to where your \"fer2013\" folder is\n",
    "\n",
    "Example: If fer2013 is located in the Downloads folder, the path looks something like below"
   ]
  },
  {
   "cell_type": "code",
   "execution_count": 3,
   "metadata": {},
   "outputs": [],
   "source": [
    "train_path = r'C:\\Users\\nguye\\Downloads\\fer_2013\\train'\n",
    "test_path = r'C:\\Users\\nguye\\Downloads\\fer_2013\\test'"
   ]
  },
  {
   "cell_type": "code",
   "execution_count": 6,
   "metadata": {},
   "outputs": [],
   "source": [
    "transform = transforms.Compose(\n",
    "    [transforms.ToTensor(),\n",
    "     transforms.Normalize((0.5), (0.5)),\n",
    "     torchvision.transforms.Grayscale(1)\n",
    "     ])\n",
    "\n",
    "trainset = datasets.ImageFolder(root=train_path, transform=transform)\n",
    "testset = datasets.ImageFolder(root=test_path, transform=transform)\n",
    "train_loader = DataLoader(trainset)\n",
    "test_loader = DataLoader(testset)"
   ]
  },
  {
   "cell_type": "code",
   "execution_count": 7,
   "metadata": {},
   "outputs": [],
   "source": [
    "train_iter = iter(train_loader)"
   ]
  },
  {
   "cell_type": "code",
   "execution_count": 8,
   "metadata": {},
   "outputs": [
    {
     "name": "stdout",
     "output_type": "stream",
     "text": [
      "Feature batch shape: torch.Size([1, 1, 48, 48])\n",
      "Labels batch shape: torch.Size([1])\n"
     ]
    },
    {
     "data": {
      "image/png": "[encoded data removed]",
      "text/plain": [
       "<Figure size 640x480 with 1 Axes>"
      ]
     },
     "metadata": {},
     "output_type": "display_data"
    },
    {
     "name": "stdout",
     "output_type": "stream",
     "text": [
      "Label: Angry\n"
     ]
    }
   ],
   "source": [
    "images, labels = next(train_iter)\n",
    "labels_map = {\n",
    "    0:\"Angry\",\n",
    "    1:\"Disgust\",\n",
    "    2:\"Fear\",\n",
    "    3:\"Happy\", \n",
    "    4:\"Sad\", \n",
    "    5:\"Surprise\", \n",
    "    6:\"Neutral\"\n",
    "}\n",
    "print(f\"Feature batch shape: {images.size()}\")\n",
    "print(f\"Labels batch shape: {labels.size()}\")\n",
    "img = images[0].squeeze()\n",
    "label = labels[0]\n",
    "plt.imshow(img.T, cmap=\"gray\")\n",
    "plt.show()\n",
    "print(f\"Label: {labels_map[int(label)]}\")"
   ]
  },
  {
   "cell_type": "code",
   "execution_count": 9,
   "metadata": {},
   "outputs": [],
   "source": [
    "class FER_Classifer(nn.Module):\n",
    "    def __init__(self):\n",
    "        super().__init__()\n",
    "        self.model = nn.Sequential(\n",
    "            nn.Conv2d(1, 32, (3,3)),\n",
    "            nn.ReLU(),\n",
    "            nn.Conv2d(32, 64, (3,3)),\n",
    "            nn.ReLU(),\n",
    "            nn.Conv2d(64, 64, (3,3)),\n",
    "            nn.ReLU(),\n",
    "            nn.Flatten(),\n",
    "            nn.Linear(64*(48-6)*(48-6), 7)\n",
    "        )\n",
    " \n",
    "    def forward(self,x):\n",
    "        return self.model(x)\n"
   ]
  },
  {
   "cell_type": "code",
   "execution_count": 10,
   "metadata": {},
   "outputs": [],
   "source": [
    "import torch.optim as optim\n",
    "\n",
    "clf = FER_Classifer()\n",
    "criteria = nn.CrossEntropyLoss()\n",
    "opt = optim.Adam(clf.parameters(), lr=0.0002)"
   ]
  },
  {
   "cell_type": "code",
   "execution_count": 11,
   "metadata": {},
   "outputs": [
    {
     "name": "stdout",
     "output_type": "stream",
     "text": [
      "[1,  2000] loss: 0.041\n",
      "[1,  4000] loss: 0.022\n",
      "[1,  6000] loss: 0.092\n",
      "[1,  8000] loss: 0.001\n",
      "[1, 10000] loss: 0.067\n",
      "[1, 12000] loss: 0.001\n",
      "[1, 14000] loss: 0.000\n",
      "[1, 16000] loss: 0.070\n",
      "[1, 18000] loss: 0.003\n",
      "[1, 20000] loss: 0.001\n",
      "[1, 22000] loss: 0.072\n",
      "[1, 24000] loss: 0.001\n",
      "[1, 26000] loss: 0.072\n",
      "[1, 28000] loss: 0.002\n",
      "[2,  2000] loss: 0.069\n",
      "[2,  4000] loss: 0.024\n",
      "[2,  6000] loss: 0.114\n",
      "[2,  8000] loss: 0.001\n",
      "[2, 10000] loss: 0.075\n",
      "[2, 12000] loss: 0.001\n",
      "[2, 14000] loss: 0.000\n",
      "[2, 16000] loss: 0.075\n",
      "[2, 18000] loss: 0.003\n",
      "[2, 20000] loss: 0.001\n",
      "[2, 22000] loss: 0.078\n",
      "[2, 24000] loss: 0.001\n",
      "[2, 26000] loss: 0.074\n",
      "[2, 28000] loss: 0.002\n",
      "[3,  2000] loss: 0.076\n",
      "[3,  4000] loss: 0.025\n",
      "[3,  6000] loss: 0.124\n",
      "[3,  8000] loss: 0.001\n",
      "[3, 10000] loss: 0.079\n",
      "[3, 12000] loss: 0.001\n",
      "[3, 14000] loss: 0.000\n",
      "[3, 16000] loss: 0.076\n",
      "[3, 18000] loss: 0.003\n",
      "[3, 20000] loss: 0.001\n",
      "[3, 22000] loss: 0.080\n",
      "[3, 24000] loss: 0.001\n",
      "[3, 26000] loss: 0.076\n",
      "[3, 28000] loss: 0.002\n",
      "[4,  2000] loss: 0.077\n",
      "[4,  4000] loss: 0.025\n",
      "[4,  6000] loss: 0.125\n",
      "[4,  8000] loss: 0.001\n",
      "[4, 10000] loss: 0.078\n",
      "[4, 12000] loss: 0.001\n",
      "[4, 14000] loss: 0.000\n",
      "[4, 16000] loss: 0.079\n",
      "[4, 18000] loss: 0.003\n",
      "[4, 20000] loss: 0.001\n",
      "[4, 22000] loss: 0.080\n",
      "[4, 24000] loss: 0.001\n",
      "[4, 26000] loss: 0.074\n",
      "[4, 28000] loss: 0.002\n",
      "[5,  2000] loss: 0.076\n",
      "[5,  4000] loss: 0.025\n",
      "[5,  6000] loss: 0.125\n",
      "[5,  8000] loss: 0.001\n",
      "[5, 10000] loss: 0.079\n",
      "[5, 12000] loss: 0.001\n",
      "[5, 14000] loss: 0.000\n",
      "[5, 16000] loss: 0.073\n",
      "[5, 18000] loss: 0.003\n",
      "[5, 20000] loss: 0.001\n",
      "[5, 22000] loss: 0.082\n",
      "[5, 24000] loss: 0.001\n",
      "[5, 26000] loss: 0.069\n",
      "[5, 28000] loss: 0.002\n",
      "[6,  2000] loss: 0.071\n",
      "[6,  4000] loss: 0.025\n",
      "[6,  6000] loss: 0.113\n",
      "[6,  8000] loss: 0.001\n",
      "[6, 10000] loss: 0.074\n",
      "[6, 12000] loss: 0.001\n",
      "[6, 14000] loss: 0.000\n",
      "[6, 16000] loss: 0.076\n",
      "[6, 18000] loss: 0.003\n",
      "[6, 20000] loss: 0.001\n",
      "[6, 22000] loss: 0.067\n",
      "[6, 24000] loss: 0.001\n",
      "[6, 26000] loss: 0.072\n",
      "[6, 28000] loss: 0.002\n",
      "[7,  2000] loss: 0.071\n",
      "[7,  4000] loss: 0.023\n",
      "[7,  6000] loss: 0.121\n",
      "[7,  8000] loss: 0.001\n",
      "[7, 10000] loss: 0.072\n",
      "[7, 12000] loss: 0.001\n",
      "[7, 14000] loss: 0.000\n",
      "[7, 16000] loss: 0.072\n",
      "[7, 18000] loss: 0.003\n",
      "[7, 20000] loss: 0.001\n",
      "[7, 22000] loss: 0.079\n",
      "[7, 24000] loss: 0.001\n",
      "[7, 26000] loss: 0.073\n",
      "[7, 28000] loss: 0.002\n",
      "[8,  2000] loss: 0.073\n",
      "[8,  4000] loss: 0.024\n",
      "[8,  6000] loss: 0.117\n",
      "[8,  8000] loss: 0.001\n",
      "[8, 10000] loss: 0.069\n",
      "[8, 12000] loss: 0.001\n",
      "[8, 14000] loss: 0.000\n",
      "[8, 16000] loss: 0.067\n",
      "[8, 18000] loss: 0.003\n",
      "[8, 20000] loss: 0.001\n",
      "[8, 22000] loss: 0.069\n",
      "[8, 24000] loss: 0.001\n",
      "[8, 26000] loss: 0.066\n",
      "[8, 28000] loss: 0.002\n",
      "[9,  2000] loss: 0.069\n",
      "[9,  4000] loss: 0.023\n",
      "[9,  6000] loss: 0.105\n",
      "[9,  8000] loss: 0.001\n",
      "[9, 10000] loss: 0.071\n",
      "[9, 12000] loss: 0.001\n",
      "[9, 14000] loss: 0.000\n",
      "[9, 16000] loss: 0.073\n",
      "[9, 18000] loss: 0.003\n",
      "[9, 20000] loss: 0.001\n",
      "[9, 22000] loss: 0.077\n",
      "[9, 24000] loss: 0.001\n",
      "[9, 26000] loss: 0.065\n",
      "[9, 28000] loss: 0.002\n",
      "[10,  2000] loss: 0.066\n",
      "[10,  4000] loss: 0.024\n",
      "[10,  6000] loss: 0.110\n",
      "[10,  8000] loss: 0.001\n",
      "[10, 10000] loss: 0.065\n",
      "[10, 12000] loss: 0.001\n",
      "[10, 14000] loss: 0.000\n",
      "[10, 16000] loss: 0.064\n",
      "[10, 18000] loss: 0.003\n",
      "[10, 20000] loss: 0.001\n",
      "[10, 22000] loss: 0.072\n",
      "[10, 24000] loss: 0.001\n",
      "[10, 26000] loss: 0.065\n",
      "[10, 28000] loss: 0.002\n",
      "[11,  2000] loss: 0.067\n",
      "[11,  4000] loss: 0.021\n",
      "[11,  6000] loss: 0.097\n",
      "[11,  8000] loss: 0.001\n",
      "[11, 10000] loss: 0.068\n",
      "[11, 12000] loss: 0.001\n",
      "[11, 14000] loss: 0.000\n",
      "[11, 16000] loss: 0.069\n",
      "[11, 18000] loss: 0.003\n",
      "[11, 20000] loss: 0.001\n",
      "[11, 22000] loss: 0.068\n",
      "[11, 24000] loss: 0.001\n",
      "[11, 26000] loss: 0.053\n",
      "[11, 28000] loss: 0.002\n",
      "[12,  2000] loss: 0.060\n",
      "[12,  4000] loss: 0.023\n",
      "[12,  6000] loss: 0.097\n",
      "[12,  8000] loss: 0.001\n",
      "[12, 10000] loss: 0.060\n",
      "[12, 12000] loss: 0.001\n",
      "[12, 14000] loss: 0.000\n",
      "[12, 16000] loss: 0.060\n",
      "[12, 18000] loss: 0.003\n",
      "[12, 20000] loss: 0.001\n",
      "[12, 22000] loss: 0.066\n",
      "[12, 24000] loss: 0.001\n",
      "[12, 26000] loss: 0.056\n",
      "[12, 28000] loss: 0.002\n",
      "[13,  2000] loss: 0.058\n",
      "[13,  4000] loss: 0.022\n",
      "[13,  6000] loss: 0.085\n",
      "[13,  8000] loss: 0.001\n",
      "[13, 10000] loss: 0.062\n",
      "[13, 12000] loss: 0.001\n",
      "[13, 14000] loss: 0.000\n",
      "[13, 16000] loss: 0.055\n",
      "[13, 18000] loss: 0.003\n",
      "[13, 20000] loss: 0.001\n",
      "[13, 22000] loss: 0.061\n",
      "[13, 24000] loss: 0.001\n",
      "[13, 26000] loss: 0.053\n",
      "[13, 28000] loss: 0.002\n",
      "[14,  2000] loss: 0.057\n",
      "[14,  4000] loss: 0.022\n",
      "[14,  6000] loss: 0.080\n",
      "[14,  8000] loss: 0.001\n",
      "[14, 10000] loss: 0.053\n",
      "[14, 12000] loss: 0.001\n",
      "[14, 14000] loss: 0.000\n",
      "[14, 16000] loss: 0.052\n",
      "[14, 18000] loss: 0.003\n",
      "[14, 20000] loss: 0.001\n",
      "[14, 22000] loss: 0.058\n",
      "[14, 24000] loss: 0.001\n",
      "[14, 26000] loss: 0.050\n",
      "[14, 28000] loss: 0.002\n",
      "[15,  2000] loss: 0.052\n",
      "[15,  4000] loss: 0.021\n",
      "[15,  6000] loss: 0.075\n",
      "[15,  8000] loss: 0.001\n",
      "[15, 10000] loss: 0.054\n",
      "[15, 12000] loss: 0.001\n",
      "[15, 14000] loss: 0.000\n",
      "[15, 16000] loss: 0.049\n",
      "[15, 18000] loss: 0.003\n",
      "[15, 20000] loss: 0.001\n",
      "[15, 22000] loss: 0.051\n",
      "[15, 24000] loss: 0.001\n",
      "[15, 26000] loss: 0.047\n",
      "[15, 28000] loss: 0.002\n",
      "[16,  2000] loss: 0.051\n",
      "[16,  4000] loss: 0.021\n",
      "[16,  6000] loss: 0.071\n",
      "[16,  8000] loss: 0.001\n",
      "[16, 10000] loss: 0.049\n",
      "[16, 12000] loss: 0.001\n",
      "[16, 14000] loss: 0.000\n",
      "[16, 16000] loss: 0.048\n",
      "[16, 18000] loss: 0.002\n",
      "[16, 20000] loss: 0.001\n",
      "[16, 22000] loss: 0.051\n",
      "[16, 24000] loss: 0.001\n",
      "[16, 26000] loss: 0.042\n",
      "[16, 28000] loss: 0.002\n",
      "[17,  2000] loss: 0.047\n",
      "[17,  4000] loss: 0.021\n",
      "[17,  6000] loss: 0.069\n",
      "[17,  8000] loss: 0.001\n",
      "[17, 10000] loss: 0.048\n",
      "[17, 12000] loss: 0.001\n",
      "[17, 14000] loss: 0.000\n",
      "[17, 16000] loss: 0.044\n",
      "[17, 18000] loss: 0.002\n",
      "[17, 20000] loss: 0.001\n",
      "[17, 22000] loss: 0.048\n",
      "[17, 24000] loss: 0.001\n",
      "[17, 26000] loss: 0.042\n",
      "[17, 28000] loss: 0.002\n",
      "[18,  2000] loss: 0.044\n",
      "[18,  4000] loss: 0.020\n",
      "[18,  6000] loss: 0.064\n",
      "[18,  8000] loss: 0.001\n",
      "[18, 10000] loss: 0.047\n",
      "[18, 12000] loss: 0.001\n",
      "[18, 14000] loss: 0.000\n",
      "[18, 16000] loss: 0.042\n",
      "[18, 18000] loss: 0.002\n",
      "[18, 20000] loss: 0.000\n",
      "[18, 22000] loss: 0.044\n",
      "[18, 24000] loss: 0.001\n",
      "[18, 26000] loss: 0.039\n",
      "[18, 28000] loss: 0.002\n",
      "[19,  2000] loss: 0.041\n",
      "[19,  4000] loss: 0.020\n",
      "[19,  6000] loss: 0.059\n",
      "[19,  8000] loss: 0.001\n",
      "[19, 10000] loss: 0.044\n",
      "[19, 12000] loss: 0.001\n",
      "[19, 14000] loss: 0.000\n",
      "[19, 16000] loss: 0.040\n",
      "[19, 18000] loss: 0.002\n",
      "[19, 20000] loss: 0.000\n",
      "[19, 22000] loss: 0.043\n",
      "[19, 24000] loss: 0.001\n",
      "[19, 26000] loss: 0.036\n",
      "[19, 28000] loss: 0.001\n",
      "[20,  2000] loss: 0.039\n",
      "[20,  4000] loss: 0.019\n",
      "[20,  6000] loss: 0.054\n",
      "[20,  8000] loss: 0.001\n",
      "[20, 10000] loss: 0.042\n",
      "[20, 12000] loss: 0.001\n",
      "[20, 14000] loss: 0.000\n",
      "[20, 16000] loss: 0.037\n",
      "[20, 18000] loss: 0.002\n",
      "[20, 20000] loss: 0.000\n",
      "[20, 22000] loss: 0.042\n",
      "[20, 24000] loss: 0.001\n",
      "[20, 26000] loss: 0.034\n",
      "[20, 28000] loss: 0.001\n"
     ]
    }
   ],
   "source": [
    "for epoch in range(20):\n",
    "    running_loss = 0\n",
    "    for index, data in enumerate(train_loader, 0):\n",
    "        images, labels = data\n",
    "        opt.zero_grad()\n",
    "\n",
    "        outputs = clf(images)\n",
    "        loss = criteria(outputs, labels)\n",
    "        loss.backward()\n",
    "        opt.step()\n",
    "\n",
    "        running_loss+= loss.item()\n",
    "        if index % 2000 == 1999:  \n",
    "            print(f'[{epoch + 1}, {index + 1:5d}] loss: {running_loss / 2000:.3f}')\n",
    "            running_loss = 0.0\n",
    "\n"
   ]
  },
  {
   "cell_type": "code",
   "execution_count": 12,
   "metadata": {},
   "outputs": [],
   "source": [
    "test_iter = iter(test_loader)\n"
   ]
  },
  {
   "cell_type": "code",
   "execution_count": 13,
   "metadata": {},
   "outputs": [
    {
     "data": {
      "text/plain": [
       "torch.Size([1, 48, 48])"
      ]
     },
     "execution_count": 13,
     "metadata": {},
     "output_type": "execute_result"
    }
   ],
   "source": [
    "testset[0][0].size()"
   ]
  },
  {
   "cell_type": "code",
   "execution_count": 14,
   "metadata": {},
   "outputs": [
    {
     "data": {
      "text/plain": [
       "<matplotlib.image.AxesImage at 0x22917b98490>"
      ]
     },
     "execution_count": 14,
     "metadata": {},
     "output_type": "execute_result"
    },
    {
     "data": {
      "image/png": "[encoded data removed]",
      "text/plain": [
       "<Figure size 640x480 with 1 Axes>"
      ]
     },
     "metadata": {},
     "output_type": "display_data"
    }
   ],
   "source": [
    "plt.imshow(testset[0][0].permute(1,2,0))"
   ]
  },
  {
   "cell_type": "code",
   "execution_count": 15,
   "metadata": {},
   "outputs": [
    {
     "name": "stdout",
     "output_type": "stream",
     "text": [
      "Accuracy of the network on the 10000 test images: 11 %\n"
     ]
    }
   ],
   "source": [
    "correct = 0\n",
    "total = 0\n",
    "with torch.no_grad():\n",
    "    for data in test_loader:\n",
    "        images, labels = data\n",
    "        # calculate outputs by running images through the network\n",
    "        outputs = clf(images)\n",
    "        # the class with the highest energy is what we choose as prediction\n",
    "        _, predicted = torch.max(outputs.data, 1)\n",
    "        total += labels.size(0)\n",
    "        correct += (predicted == labels).sum().item()\n",
    "\n",
    "print(f'Accuracy of the network on the 10000 test images: {100 * correct // total} %')"
   ]
  }
 ],
 "metadata": {
  "kernelspec": {
   "display_name": "Python 3",
   "language": "python",
   "name": "python3"
  },
  "language_info": {
   "codemirror_mode": {
    "name": "ipython",
    "version": 3
   },
   "file_extension": ".py",
   "mimetype": "text/x-python",
   "name": "python",
   "nbconvert_exporter": "python",
   "pygments_lexer": "ipython3",
   "version": "3.10.5"
  }
 },
 "nbformat": 4,
 "nbformat_minor": 2
}
