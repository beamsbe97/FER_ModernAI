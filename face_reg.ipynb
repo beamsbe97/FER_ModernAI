{
 "cells": [
  {
   "cell_type": "code",
   "execution_count": 3,
   "metadata": {},
   "outputs": [],
   "source": [
    "import torchvision\n",
    "import torchvision.transforms as transforms\n",
    "import torch.nn as nn\n",
    "from torch.nn.functional import relu\n",
    "from torch.utils.data import DataLoader\n",
    "from torchvision import datasets\n",
    "import matplotlib.pyplot as plt\n",
    "import numpy as np"
   ]
  },
  {
   "cell_type": "markdown",
   "metadata": {},
   "source": [
    "Change the path below to where your \"fer2013\" folder is\n",
    "\n",
    "Example: If fer2013 is located in the Downloads folder, the path looks something like below"
   ]
  },
  {
   "cell_type": "code",
   "execution_count": 4,
   "metadata": {},
   "outputs": [],
   "source": [
    "dataset_root_folder = r'C:\\Users\\nguye\\Downloads'"
   ]
  },
  {
   "cell_type": "code",
   "execution_count": 5,
   "metadata": {},
   "outputs": [],
   "source": [
    "transform = transforms.Compose(\n",
    "    [transforms.ToTensor(),\n",
    "     transforms.Normalize((0.5), (0.5))])\n",
    "\n",
    "trainset = torchvision.datasets.FER2013(root=dataset_root_folder, split='train', transform=transform)\n",
    "testset = torchvision.datasets.FER2013(root=dataset_root_folder, split='test', transform=transform)\n",
    "train_loader = DataLoader(trainset)\n",
    "test_loader = DataLoader(testset)"
   ]
  },
  {
   "cell_type": "code",
   "execution_count": 6,
   "metadata": {},
   "outputs": [],
   "source": [
    "train_iter = iter(train_loader)"
   ]
  },
  {
   "cell_type": "code",
   "execution_count": 16,
   "metadata": {},
   "outputs": [
    {
     "name": "stdout",
     "output_type": "stream",
     "text": [
      "Feature batch shape: torch.Size([1, 1, 48, 48])\n",
      "Labels batch shape: torch.Size([1])\n"
     ]
    },
    {
     "data": {
      "image/png": "[encoded data removed]",
      "text/plain": [
       "<Figure size 640x480 with 1 Axes>"
      ]
     },
     "metadata": {},
     "output_type": "display_data"
    },
    {
     "name": "stdout",
     "output_type": "stream",
     "text": [
      "Label: Fear\n"
     ]
    }
   ],
   "source": [
    "images, labels = next(train_iter)\n",
    "labels_map = {\n",
    "    0:\"Angry\",\n",
    "    1:\"Disgust\",\n",
    "    2:\"Fear\",\n",
    "    3:\"Happy\", \n",
    "    4:\"Sad\", \n",
    "    5:\"Surprise\", \n",
    "    6:\"Neutral\"\n",
    "}\n",
    "print(f\"Feature batch shape: {images.size()}\")\n",
    "print(f\"Labels batch shape: {labels.size()}\")\n",
    "img = images[0].squeeze()\n",
    "label = labels[0]\n",
    "plt.imshow(img, cmap=\"gray\")\n",
    "plt.show()\n",
    "print(f\"Label: {labels_map[int(label)]}\")"
   ]
  },
  {
   "cell_type": "code",
   "execution_count": 17,
   "metadata": {},
   "outputs": [],
   "source": [
    "class FER_Classifer(nn.Module):\n",
    "    def __init__(self):\n",
    "        super().__init__()\n",
    "        self.model = nn.Sequential(\n",
    "            nn.Conv2d(1, 32, (3,3)),\n",
    "            nn.ReLU(),\n",
    "            nn.Conv2d(32, 64, (3,3)),\n",
    "            nn.ReLU(),\n",
    "            nn.Conv2d(64, 64, (3,3)),\n",
    "            nn.ReLU(),\n",
    "            nn.Flatten(),\n",
    "            nn.Linear(64*(48-6)*(48-6), 7),\n",
    "\n",
    "        )\n",
    " \n",
    "    def forward(self,x):\n",
    "        return self.model(x)\n"
   ]
  },
  {
   "cell_type": "code",
   "execution_count": 18,
   "metadata": {},
   "outputs": [],
   "source": [
    "import torch.optim as optim\n",
    "\n",
    "clf = FER_Classifer()\n",
    "criteria = nn.CrossEntropyLoss()\n",
    "opt = optim.SGD(clf.parameters(), lr=0.0002)"
   ]
  },
  {
   "cell_type": "code",
   "execution_count": 20,
   "metadata": {},
   "outputs": [
    {
     "name": "stdout",
     "output_type": "stream",
     "text": [
      "[1,  2000] loss: 1.777\n",
      "[1,  4000] loss: 1.735\n",
      "[1,  6000] loss: 1.736\n",
      "[1,  8000] loss: 1.719\n",
      "[1, 10000] loss: 1.719\n",
      "[1, 12000] loss: 1.715\n",
      "[1, 14000] loss: 1.684\n",
      "[1, 16000] loss: 1.661\n",
      "[1, 18000] loss: 1.705\n",
      "[1, 20000] loss: 1.654\n",
      "[1, 22000] loss: 1.656\n",
      "[1, 24000] loss: 1.633\n",
      "[1, 26000] loss: 1.654\n",
      "[1, 28000] loss: 1.612\n",
      "[2,  2000] loss: 1.636\n",
      "[2,  4000] loss: 1.621\n",
      "[2,  6000] loss: 1.635\n",
      "[2,  8000] loss: 1.635\n",
      "[2, 10000] loss: 1.641\n",
      "[2, 12000] loss: 1.647\n",
      "[2, 14000] loss: 1.616\n",
      "[2, 16000] loss: 1.597\n",
      "[2, 18000] loss: 1.642\n",
      "[2, 20000] loss: 1.595\n",
      "[2, 22000] loss: 1.596\n",
      "[2, 24000] loss: 1.574\n",
      "[2, 26000] loss: 1.601\n",
      "[2, 28000] loss: 1.554\n",
      "[3,  2000] loss: 1.582\n",
      "[3,  4000] loss: 1.569\n",
      "[3,  6000] loss: 1.583\n",
      "[3,  8000] loss: 1.583\n",
      "[3, 10000] loss: 1.593\n",
      "[3, 12000] loss: 1.596\n",
      "[3, 14000] loss: 1.563\n",
      "[3, 16000] loss: 1.546\n",
      "[3, 18000] loss: 1.590\n",
      "[3, 20000] loss: 1.542\n",
      "[3, 22000] loss: 1.548\n",
      "[3, 24000] loss: 1.522\n",
      "[3, 26000] loss: 1.548\n",
      "[3, 28000] loss: 1.497\n",
      "[4,  2000] loss: 1.531\n",
      "[4,  4000] loss: 1.517\n",
      "[4,  6000] loss: 1.529\n",
      "[4,  8000] loss: 1.527\n",
      "[4, 10000] loss: 1.545\n",
      "[4, 12000] loss: 1.545\n",
      "[4, 14000] loss: 1.512\n",
      "[4, 16000] loss: 1.495\n",
      "[4, 18000] loss: 1.539\n",
      "[4, 20000] loss: 1.490\n",
      "[4, 22000] loss: 1.503\n",
      "[4, 24000] loss: 1.472\n",
      "[4, 26000] loss: 1.492\n",
      "[4, 28000] loss: 1.442\n",
      "[5,  2000] loss: 1.482\n",
      "[5,  4000] loss: 1.465\n",
      "[5,  6000] loss: 1.477\n",
      "[5,  8000] loss: 1.471\n",
      "[5, 10000] loss: 1.494\n",
      "[5, 12000] loss: 1.495\n",
      "[5, 14000] loss: 1.462\n",
      "[5, 16000] loss: 1.445\n",
      "[5, 18000] loss: 1.484\n",
      "[5, 20000] loss: 1.439\n",
      "[5, 22000] loss: 1.457\n",
      "[5, 24000] loss: 1.418\n",
      "[5, 26000] loss: 1.431\n",
      "[5, 28000] loss: 1.385\n",
      "[6,  2000] loss: 1.432\n",
      "[6,  4000] loss: 1.411\n",
      "[6,  6000] loss: 1.426\n",
      "[6,  8000] loss: 1.414\n",
      "[6, 10000] loss: 1.436\n",
      "[6, 12000] loss: 1.442\n",
      "[6, 14000] loss: 1.410\n",
      "[6, 16000] loss: 1.392\n",
      "[6, 18000] loss: 1.425\n",
      "[6, 20000] loss: 1.386\n",
      "[6, 22000] loss: 1.406\n",
      "[6, 24000] loss: 1.362\n",
      "[6, 26000] loss: 1.368\n",
      "[6, 28000] loss: 1.326\n",
      "[7,  2000] loss: 1.383\n",
      "[7,  4000] loss: 1.355\n",
      "[7,  6000] loss: 1.374\n",
      "[7,  8000] loss: 1.358\n",
      "[7, 10000] loss: 1.374\n",
      "[7, 12000] loss: 1.388\n",
      "[7, 14000] loss: 1.358\n",
      "[7, 16000] loss: 1.340\n",
      "[7, 18000] loss: 1.366\n",
      "[7, 20000] loss: 1.334\n",
      "[7, 22000] loss: 1.353\n",
      "[7, 24000] loss: 1.306\n",
      "[7, 26000] loss: 1.307\n",
      "[7, 28000] loss: 1.268\n",
      "[8,  2000] loss: 1.336\n",
      "[8,  4000] loss: 1.301\n",
      "[8,  6000] loss: 1.322\n",
      "[8,  8000] loss: 1.304\n",
      "[8, 10000] loss: 1.314\n",
      "[8, 12000] loss: 1.334\n",
      "[8, 14000] loss: 1.310\n",
      "[8, 16000] loss: 1.290\n",
      "[8, 18000] loss: 1.309\n",
      "[8, 20000] loss: 1.283\n",
      "[8, 22000] loss: 1.300\n",
      "[8, 24000] loss: 1.254\n",
      "[8, 26000] loss: 1.249\n",
      "[8, 28000] loss: 1.212\n",
      "[9,  2000] loss: 1.290\n",
      "[9,  4000] loss: 1.249\n",
      "[9,  6000] loss: 1.271\n",
      "[9,  8000] loss: 1.252\n",
      "[9, 10000] loss: 1.256\n",
      "[9, 12000] loss: 1.280\n",
      "[9, 14000] loss: 1.263\n",
      "[9, 16000] loss: 1.241\n",
      "[9, 18000] loss: 1.254\n",
      "[9, 20000] loss: 1.232\n",
      "[9, 22000] loss: 1.249\n",
      "[9, 24000] loss: 1.202\n",
      "[9, 26000] loss: 1.194\n",
      "[9, 28000] loss: 1.158\n",
      "[10,  2000] loss: 1.244\n",
      "[10,  4000] loss: 1.197\n",
      "[10,  6000] loss: 1.220\n",
      "[10,  8000] loss: 1.199\n",
      "[10, 10000] loss: 1.200\n",
      "[10, 12000] loss: 1.226\n",
      "[10, 14000] loss: 1.216\n",
      "[10, 16000] loss: 1.193\n",
      "[10, 18000] loss: 1.199\n",
      "[10, 20000] loss: 1.178\n",
      "[10, 22000] loss: 1.198\n",
      "[10, 24000] loss: 1.149\n",
      "[10, 26000] loss: 1.139\n",
      "[10, 28000] loss: 1.105\n"
     ]
    }
   ],
   "source": [
    "for epoch in range(10):\n",
    "    running_loss = 0\n",
    "    for index, data in enumerate(train_loader, 0):\n",
    "        images, labels = data\n",
    "        opt.zero_grad()\n",
    "\n",
    "        outputs = clf(images)\n",
    "        loss = criteria(outputs, labels)\n",
    "        loss.backward()\n",
    "        opt.step()\n",
    "\n",
    "        running_loss+= loss.item()\n",
    "        if index % 2000 == 1999:  \n",
    "            print(f'[{epoch + 1}, {index + 1:5d}] loss: {running_loss / 2000:.3f}')\n",
    "            running_loss = 0.0\n",
    "\n"
   ]
  },
  {
   "cell_type": "code",
   "execution_count": 23,
   "metadata": {},
   "outputs": [],
   "source": [
    "test_iter = iter(test_loader)\n"
   ]
  },
  {
   "cell_type": "code",
   "execution_count": 28,
   "metadata": {},
   "outputs": [
    {
     "data": {
      "text/plain": [
       "(tensor([[[ 0.9922,  0.9922,  0.9922,  ..., -0.8745, -1.0000,  0.2627],\n",
       "          [ 0.9922,  0.9922,  0.9922,  ..., -0.8667, -1.0000, -0.0431],\n",
       "          [ 0.9922,  0.9922,  0.9922,  ..., -0.7961, -1.0000, -0.1059],\n",
       "          ...,\n",
       "          [-0.4824, -0.3255, -0.2235,  ...,  1.0000,  0.9765,  0.9922],\n",
       "          [-0.3412, -0.2784, -0.2784,  ...,  0.8510,  1.0000,  1.0000],\n",
       "          [-0.2706, -0.2941, -0.3333,  ..., -0.6706,  0.0118,  0.4118]]]),\n",
       " None)"
      ]
     },
     "execution_count": 28,
     "metadata": {},
     "output_type": "execute_result"
    }
   ],
   "source": [
    "list(enumerate(test_loader))"
   ]
  }
 ],
 "metadata": {
  "kernelspec": {
   "display_name": "Python 3",
   "language": "python",
   "name": "python3"
  },
  "language_info": {
   "codemirror_mode": {
    "name": "ipython",
    "version": 3
   },
   "file_extension": ".py",
   "mimetype": "text/x-python",
   "name": "python",
   "nbconvert_exporter": "python",
   "pygments_lexer": "ipython3",
   "version": "3.10.5"
  }
 },
 "nbformat": 4,
 "nbformat_minor": 2
}
